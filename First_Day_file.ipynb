{
  "nbformat": 4,
  "nbformat_minor": 0,
  "metadata": {
    "colab": {
      "name": "First_Day_file.ipynb",
      "provenance": [],
      "collapsed_sections": [],
      "mount_file_id": "1FPvJL8K7GD0gxkBapsKrhzA4rukV6GjR",
      "authorship_tag": "ABX9TyPYuWVzf2uX/8WnJEnoycpW",
      "include_colab_link": true
    },
    "kernelspec": {
      "name": "python3",
      "display_name": "Python 3"
    },
    "accelerator": "GPU"
  },
  "cells": [
    {
      "cell_type": "markdown",
      "metadata": {
        "id": "view-in-github",
        "colab_type": "text"
      },
      "source": [
        "<a href=\"https://colab.research.google.com/github/lohitslohit/Auto-mpg/blob/master/First_Day_file.ipynb\" target=\"_parent\"><img src=\"https://colab.research.google.com/assets/colab-badge.svg\" alt=\"Open In Colab\"/></a>"
      ]
    },
    {
      "cell_type": "code",
      "metadata": {
        "colab": {
          "base_uri": "https://localhost:8080/"
        },
        "id": "lhgti8j0pANK",
        "outputId": "6f8a35f8-6d34-4c36-9ae0-4b87d6fa0d04"
      },
      "source": [
        "import time\r\n",
        "print(time.ctime())"
      ],
      "execution_count": 10,
      "outputs": [
        {
          "output_type": "stream",
          "text": [
            "Wed Feb 17 16:01:10 2021\n"
          ],
          "name": "stdout"
        }
      ]
    },
    {
      "cell_type": "code",
      "metadata": {
        "id": "AlMqiUFQut2T"
      },
      "source": [
        "time.sleep(5)"
      ],
      "execution_count": 11,
      "outputs": []
    },
    {
      "cell_type": "code",
      "metadata": {
        "colab": {
          "base_uri": "https://localhost:8080/"
        },
        "id": "aP99ziy2sqmf",
        "outputId": "fd9c9ad2-977d-4bf6-9ea8-c86891442670"
      },
      "source": [
        "print(time.ctime())"
      ],
      "execution_count": 12,
      "outputs": [
        {
          "output_type": "stream",
          "text": [
            "Wed Feb 17 16:01:16 2021\n"
          ],
          "name": "stdout"
        }
      ]
    },
    {
      "cell_type": "code",
      "metadata": {
        "id": "MQ0_NxzipTMM"
      },
      "source": [
        ""
      ],
      "execution_count": null,
      "outputs": []
    },
    {
      "cell_type": "markdown",
      "metadata": {
        "id": "AoT3t5k6wS5_"
      },
      "source": [
        "This is **bold text**\r\n",
        "\r\n",
        "This is *italicized text*\r\n",
        "\r\n",
        "this ~stricke~"
      ]
    },
    {
      "cell_type": "markdown",
      "metadata": {
        "id": "bywmrih-xSW9"
      },
      "source": [
        "# Maths Equation"
      ]
    },
    {
      "cell_type": "markdown",
      "metadata": {
        "id": "eFwi1vmAxVQz"
      },
      "source": [
        "$\\sqrt(3x-1)+(1+x)^5$\r\n",
        "\r\n",
        "\r\n",
        "\r\n",
        "\r\n",
        "\r\n",
        "\r\n",
        "$e^x=\\sum_{1=0}^\\infty\\frac{1}{1!}x^i$\r\n",
        "\r\n",
        "\r\n",
        "$3x_1$\r\n",
        "\r\n",
        "\r\n"
      ]
    },
    {
      "cell_type": "code",
      "metadata": {
        "id": "1HRcozK7pTPE"
      },
      "source": [
        ""
      ],
      "execution_count": null,
      "outputs": []
    },
    {
      "cell_type": "code",
      "metadata": {
        "id": "PxZccOWSpTS9"
      },
      "source": [
        ""
      ],
      "execution_count": null,
      "outputs": []
    },
    {
      "cell_type": "code",
      "metadata": {
        "id": "zMvBK_dDpTVt"
      },
      "source": [
        ""
      ],
      "execution_count": null,
      "outputs": []
    }
  ]
}